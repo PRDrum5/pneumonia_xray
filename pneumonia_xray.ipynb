{
  "nbformat": 4,
  "nbformat_minor": 0,
  "metadata": {
    "colab": {
      "provenance": [],
      "include_colab_link": true
    },
    "kernelspec": {
      "name": "python3",
      "display_name": "Python 3"
    },
    "language_info": {
      "name": "python"
    }
  },
  "cells": [
    {
      "cell_type": "markdown",
      "metadata": {
        "id": "view-in-github",
        "colab_type": "text"
      },
      "source": [
        "<a href=\"https://colab.research.google.com/github/PRDrum5/pneumonia_xray/blob/main/pneumonia_xray.ipynb\" target=\"_parent\"><img src=\"https://colab.research.google.com/assets/colab-badge.svg\" alt=\"Open In Colab\"/></a>"
      ]
    },
    {
      "cell_type": "markdown",
      "source": [
        "# Pneumonia X-Ray Dataset\n",
        "\n",
        "https://data.mendeley.com/datasets/rscbjbr9sj/2\n",
        "\n"
      ],
      "metadata": {
        "id": "916VF8O2sJg8"
      }
    },
    {
      "cell_type": "code",
      "source": [
        "!pip install plotly\n",
        "!pip install plotly pillow\n",
        "!pip install torcheval\n",
        "\n",
        "import kagglehub\n",
        "import random\n",
        "from tqdm import tqdm\n",
        "import plotly.graph_objects as go\n",
        "import plotly.express as px\n",
        "from plotly.subplots import make_subplots\n",
        "from pathlib import Path\n",
        "from PIL import Image\n",
        "from sklearn.metrics import confusion_matrix, ConfusionMatrixDisplay\n",
        "import numpy as np\n",
        "\n",
        "import torch\n",
        "import torchvision\n",
        "from torch.utils.data import Dataset, DataLoader\n",
        "from torchvision.io import read_image\n",
        "from torchvision.transforms.v2 import Compose, RandomResizedCrop, CenterCrop, Normalize, ToDtype\n",
        "from torcheval.metrics.functional import binary_f1_score"
      ],
      "metadata": {
        "colab": {
          "base_uri": "https://localhost:8080/"
        },
        "id": "apWBti_cs1jz",
        "outputId": "fef49fbd-da2b-4a49-90dc-fb661068e8ed"
      },
      "execution_count": null,
      "outputs": [
        {
          "output_type": "stream",
          "name": "stdout",
          "text": [
            "Requirement already satisfied: plotly in /usr/local/lib/python3.10/dist-packages (5.24.1)\n",
            "Requirement already satisfied: tenacity>=6.2.0 in /usr/local/lib/python3.10/dist-packages (from plotly) (9.0.0)\n",
            "Requirement already satisfied: packaging in /usr/local/lib/python3.10/dist-packages (from plotly) (24.2)\n",
            "Requirement already satisfied: plotly in /usr/local/lib/python3.10/dist-packages (5.24.1)\n",
            "Requirement already satisfied: pillow in /usr/local/lib/python3.10/dist-packages (11.0.0)\n",
            "Requirement already satisfied: tenacity>=6.2.0 in /usr/local/lib/python3.10/dist-packages (from plotly) (9.0.0)\n",
            "Requirement already satisfied: packaging in /usr/local/lib/python3.10/dist-packages (from plotly) (24.2)\n",
            "Requirement already satisfied: torcheval in /usr/local/lib/python3.10/dist-packages (0.0.7)\n",
            "Requirement already satisfied: typing-extensions in /usr/local/lib/python3.10/dist-packages (from torcheval) (4.12.2)\n"
          ]
        }
      ]
    },
    {
      "cell_type": "code",
      "execution_count": null,
      "metadata": {
        "colab": {
          "base_uri": "https://localhost:8080/"
        },
        "id": "TATWglnwrxzl",
        "outputId": "bbd1d846-ad40-4834-8106-9e5e4b535f8f"
      },
      "outputs": [
        {
          "output_type": "stream",
          "name": "stdout",
          "text": [
            "Path to dataset files: /root/.cache/kagglehub/datasets/paultimothymooney/chest-xray-pneumonia/versions/2\n"
          ]
        }
      ],
      "source": [
        "dataset_path = Path(kagglehub.dataset_download(\"paultimothymooney/chest-xray-pneumonia\"))\n",
        "\n",
        "print(\"Path to dataset files:\", dataset_path)"
      ]
    },
    {
      "cell_type": "code",
      "source": [
        "data_path = dataset_path / \"chest_xray\"\n",
        "\n",
        "train_path = data_path / \"train\"\n",
        "test_path = data_path / \"test\"\n",
        "\n",
        "assert train_path.exists() and test_path.exists()"
      ],
      "metadata": {
        "id": "kW6UVUxOxBT8"
      },
      "execution_count": null,
      "outputs": []
    },
    {
      "cell_type": "markdown",
      "source": [
        "Look at balance of positive and negative cases"
      ],
      "metadata": {
        "id": "SpiuMy-7s2Ie"
      }
    },
    {
      "cell_type": "code",
      "source": [
        "negative_cases_dir = train_path / \"NORMAL\"\n",
        "positive_cases_dir = train_path / \"PNEUMONIA\"\n",
        "assert negative_cases_dir.exists() and positive_cases_dir.exists()\n",
        "\n",
        "negative_samples = list(negative_cases_dir.glob('*.jpeg'))\n",
        "positive_samples = list(positive_cases_dir.glob('*.jpeg'))\n",
        "\n",
        "counts = [len(positive_samples), len(negative_samples)]\n",
        "\n",
        "labels = [\"Positive Cases\", \"Negative Cases\"]\n",
        "\n",
        "fig = go.Figure(data=[go.Bar(x=labels, y=counts, marker_color=['green', 'red'])])\n",
        "\n",
        "fig.update_layout(\n",
        "    title=\"Data Imbalance in Training Data\",\n",
        "    xaxis_title=\"Positive and Negative Cases\",\n",
        "    yaxis_title=\"Number of Samples\"\n",
        ")"
      ],
      "metadata": {
        "colab": {
          "base_uri": "https://localhost:8080/",
          "height": 542
        },
        "id": "_rH3xV7-s567",
        "outputId": "ae332914-082d-4067-9328-41bf84bb7218"
      },
      "execution_count": null,
      "outputs": [
        {
          "output_type": "display_data",
          "data": {
            "text/html": [
              "<html>\n",
              "<head><meta charset=\"utf-8\" /></head>\n",
              "<body>\n",
              "    <div>            <script src=\"https://cdnjs.cloudflare.com/ajax/libs/mathjax/2.7.5/MathJax.js?config=TeX-AMS-MML_SVG\"></script><script type=\"text/javascript\">if (window.MathJax && window.MathJax.Hub && window.MathJax.Hub.Config) {window.MathJax.Hub.Config({SVG: {font: \"STIX-Web\"}});}</script>                <script type=\"text/javascript\">window.PlotlyConfig = {MathJaxConfig: 'local'};</script>\n",
              "        <script charset=\"utf-8\" src=\"https://cdn.plot.ly/plotly-2.35.2.min.js\"></script>                <div id=\"767f989e-3afa-4035-8742-2932fbbd454c\" class=\"plotly-graph-div\" style=\"height:525px; width:100%;\"></div>            <script type=\"text/javascript\">                                    window.PLOTLYENV=window.PLOTLYENV || {};                                    if (document.getElementById(\"767f989e-3afa-4035-8742-2932fbbd454c\")) {                    Plotly.newPlot(                        \"767f989e-3afa-4035-8742-2932fbbd454c\",                        [{\"marker\":{\"color\":[\"green\",\"red\"]},\"x\":[\"Positive Cases\",\"Negative Cases\"],\"y\":[3875,1341],\"type\":\"bar\"}],                        {\"template\":{\"data\":{\"histogram2dcontour\":[{\"type\":\"histogram2dcontour\",\"colorbar\":{\"outlinewidth\":0,\"ticks\":\"\"},\"colorscale\":[[0.0,\"#0d0887\"],[0.1111111111111111,\"#46039f\"],[0.2222222222222222,\"#7201a8\"],[0.3333333333333333,\"#9c179e\"],[0.4444444444444444,\"#bd3786\"],[0.5555555555555556,\"#d8576b\"],[0.6666666666666666,\"#ed7953\"],[0.7777777777777778,\"#fb9f3a\"],[0.8888888888888888,\"#fdca26\"],[1.0,\"#f0f921\"]]}],\"choropleth\":[{\"type\":\"choropleth\",\"colorbar\":{\"outlinewidth\":0,\"ticks\":\"\"}}],\"histogram2d\":[{\"type\":\"histogram2d\",\"colorbar\":{\"outlinewidth\":0,\"ticks\":\"\"},\"colorscale\":[[0.0,\"#0d0887\"],[0.1111111111111111,\"#46039f\"],[0.2222222222222222,\"#7201a8\"],[0.3333333333333333,\"#9c179e\"],[0.4444444444444444,\"#bd3786\"],[0.5555555555555556,\"#d8576b\"],[0.6666666666666666,\"#ed7953\"],[0.7777777777777778,\"#fb9f3a\"],[0.8888888888888888,\"#fdca26\"],[1.0,\"#f0f921\"]]}],\"heatmap\":[{\"type\":\"heatmap\",\"colorbar\":{\"outlinewidth\":0,\"ticks\":\"\"},\"colorscale\":[[0.0,\"#0d0887\"],[0.1111111111111111,\"#46039f\"],[0.2222222222222222,\"#7201a8\"],[0.3333333333333333,\"#9c179e\"],[0.4444444444444444,\"#bd3786\"],[0.5555555555555556,\"#d8576b\"],[0.6666666666666666,\"#ed7953\"],[0.7777777777777778,\"#fb9f3a\"],[0.8888888888888888,\"#fdca26\"],[1.0,\"#f0f921\"]]}],\"heatmapgl\":[{\"type\":\"heatmapgl\",\"colorbar\":{\"outlinewidth\":0,\"ticks\":\"\"},\"colorscale\":[[0.0,\"#0d0887\"],[0.1111111111111111,\"#46039f\"],[0.2222222222222222,\"#7201a8\"],[0.3333333333333333,\"#9c179e\"],[0.4444444444444444,\"#bd3786\"],[0.5555555555555556,\"#d8576b\"],[0.6666666666666666,\"#ed7953\"],[0.7777777777777778,\"#fb9f3a\"],[0.8888888888888888,\"#fdca26\"],[1.0,\"#f0f921\"]]}],\"contourcarpet\":[{\"type\":\"contourcarpet\",\"colorbar\":{\"outlinewidth\":0,\"ticks\":\"\"}}],\"contour\":[{\"type\":\"contour\",\"colorbar\":{\"outlinewidth\":0,\"ticks\":\"\"},\"colorscale\":[[0.0,\"#0d0887\"],[0.1111111111111111,\"#46039f\"],[0.2222222222222222,\"#7201a8\"],[0.3333333333333333,\"#9c179e\"],[0.4444444444444444,\"#bd3786\"],[0.5555555555555556,\"#d8576b\"],[0.6666666666666666,\"#ed7953\"],[0.7777777777777778,\"#fb9f3a\"],[0.8888888888888888,\"#fdca26\"],[1.0,\"#f0f921\"]]}],\"surface\":[{\"type\":\"surface\",\"colorbar\":{\"outlinewidth\":0,\"ticks\":\"\"},\"colorscale\":[[0.0,\"#0d0887\"],[0.1111111111111111,\"#46039f\"],[0.2222222222222222,\"#7201a8\"],[0.3333333333333333,\"#9c179e\"],[0.4444444444444444,\"#bd3786\"],[0.5555555555555556,\"#d8576b\"],[0.6666666666666666,\"#ed7953\"],[0.7777777777777778,\"#fb9f3a\"],[0.8888888888888888,\"#fdca26\"],[1.0,\"#f0f921\"]]}],\"mesh3d\":[{\"type\":\"mesh3d\",\"colorbar\":{\"outlinewidth\":0,\"ticks\":\"\"}}],\"scatter\":[{\"fillpattern\":{\"fillmode\":\"overlay\",\"size\":10,\"solidity\":0.2},\"type\":\"scatter\"}],\"parcoords\":[{\"type\":\"parcoords\",\"line\":{\"colorbar\":{\"outlinewidth\":0,\"ticks\":\"\"}}}],\"scatterpolargl\":[{\"type\":\"scatterpolargl\",\"marker\":{\"colorbar\":{\"outlinewidth\":0,\"ticks\":\"\"}}}],\"bar\":[{\"error_x\":{\"color\":\"#2a3f5f\"},\"error_y\":{\"color\":\"#2a3f5f\"},\"marker\":{\"line\":{\"color\":\"#E5ECF6\",\"width\":0.5},\"pattern\":{\"fillmode\":\"overlay\",\"size\":10,\"solidity\":0.2}},\"type\":\"bar\"}],\"scattergeo\":[{\"type\":\"scattergeo\",\"marker\":{\"colorbar\":{\"outlinewidth\":0,\"ticks\":\"\"}}}],\"scatterpolar\":[{\"type\":\"scatterpolar\",\"marker\":{\"colorbar\":{\"outlinewidth\":0,\"ticks\":\"\"}}}],\"histogram\":[{\"marker\":{\"pattern\":{\"fillmode\":\"overlay\",\"size\":10,\"solidity\":0.2}},\"type\":\"histogram\"}],\"scattergl\":[{\"type\":\"scattergl\",\"marker\":{\"colorbar\":{\"outlinewidth\":0,\"ticks\":\"\"}}}],\"scatter3d\":[{\"type\":\"scatter3d\",\"line\":{\"colorbar\":{\"outlinewidth\":0,\"ticks\":\"\"}},\"marker\":{\"colorbar\":{\"outlinewidth\":0,\"ticks\":\"\"}}}],\"scattermapbox\":[{\"type\":\"scattermapbox\",\"marker\":{\"colorbar\":{\"outlinewidth\":0,\"ticks\":\"\"}}}],\"scatterternary\":[{\"type\":\"scatterternary\",\"marker\":{\"colorbar\":{\"outlinewidth\":0,\"ticks\":\"\"}}}],\"scattercarpet\":[{\"type\":\"scattercarpet\",\"marker\":{\"colorbar\":{\"outlinewidth\":0,\"ticks\":\"\"}}}],\"carpet\":[{\"aaxis\":{\"endlinecolor\":\"#2a3f5f\",\"gridcolor\":\"white\",\"linecolor\":\"white\",\"minorgridcolor\":\"white\",\"startlinecolor\":\"#2a3f5f\"},\"baxis\":{\"endlinecolor\":\"#2a3f5f\",\"gridcolor\":\"white\",\"linecolor\":\"white\",\"minorgridcolor\":\"white\",\"startlinecolor\":\"#2a3f5f\"},\"type\":\"carpet\"}],\"table\":[{\"cells\":{\"fill\":{\"color\":\"#EBF0F8\"},\"line\":{\"color\":\"white\"}},\"header\":{\"fill\":{\"color\":\"#C8D4E3\"},\"line\":{\"color\":\"white\"}},\"type\":\"table\"}],\"barpolar\":[{\"marker\":{\"line\":{\"color\":\"#E5ECF6\",\"width\":0.5},\"pattern\":{\"fillmode\":\"overlay\",\"size\":10,\"solidity\":0.2}},\"type\":\"barpolar\"}],\"pie\":[{\"automargin\":true,\"type\":\"pie\"}]},\"layout\":{\"autotypenumbers\":\"strict\",\"colorway\":[\"#636efa\",\"#EF553B\",\"#00cc96\",\"#ab63fa\",\"#FFA15A\",\"#19d3f3\",\"#FF6692\",\"#B6E880\",\"#FF97FF\",\"#FECB52\"],\"font\":{\"color\":\"#2a3f5f\"},\"hovermode\":\"closest\",\"hoverlabel\":{\"align\":\"left\"},\"paper_bgcolor\":\"white\",\"plot_bgcolor\":\"#E5ECF6\",\"polar\":{\"bgcolor\":\"#E5ECF6\",\"angularaxis\":{\"gridcolor\":\"white\",\"linecolor\":\"white\",\"ticks\":\"\"},\"radialaxis\":{\"gridcolor\":\"white\",\"linecolor\":\"white\",\"ticks\":\"\"}},\"ternary\":{\"bgcolor\":\"#E5ECF6\",\"aaxis\":{\"gridcolor\":\"white\",\"linecolor\":\"white\",\"ticks\":\"\"},\"baxis\":{\"gridcolor\":\"white\",\"linecolor\":\"white\",\"ticks\":\"\"},\"caxis\":{\"gridcolor\":\"white\",\"linecolor\":\"white\",\"ticks\":\"\"}},\"coloraxis\":{\"colorbar\":{\"outlinewidth\":0,\"ticks\":\"\"}},\"colorscale\":{\"sequential\":[[0.0,\"#0d0887\"],[0.1111111111111111,\"#46039f\"],[0.2222222222222222,\"#7201a8\"],[0.3333333333333333,\"#9c179e\"],[0.4444444444444444,\"#bd3786\"],[0.5555555555555556,\"#d8576b\"],[0.6666666666666666,\"#ed7953\"],[0.7777777777777778,\"#fb9f3a\"],[0.8888888888888888,\"#fdca26\"],[1.0,\"#f0f921\"]],\"sequentialminus\":[[0.0,\"#0d0887\"],[0.1111111111111111,\"#46039f\"],[0.2222222222222222,\"#7201a8\"],[0.3333333333333333,\"#9c179e\"],[0.4444444444444444,\"#bd3786\"],[0.5555555555555556,\"#d8576b\"],[0.6666666666666666,\"#ed7953\"],[0.7777777777777778,\"#fb9f3a\"],[0.8888888888888888,\"#fdca26\"],[1.0,\"#f0f921\"]],\"diverging\":[[0,\"#8e0152\"],[0.1,\"#c51b7d\"],[0.2,\"#de77ae\"],[0.3,\"#f1b6da\"],[0.4,\"#fde0ef\"],[0.5,\"#f7f7f7\"],[0.6,\"#e6f5d0\"],[0.7,\"#b8e186\"],[0.8,\"#7fbc41\"],[0.9,\"#4d9221\"],[1,\"#276419\"]]},\"xaxis\":{\"gridcolor\":\"white\",\"linecolor\":\"white\",\"ticks\":\"\",\"title\":{\"standoff\":15},\"zerolinecolor\":\"white\",\"automargin\":true,\"zerolinewidth\":2},\"yaxis\":{\"gridcolor\":\"white\",\"linecolor\":\"white\",\"ticks\":\"\",\"title\":{\"standoff\":15},\"zerolinecolor\":\"white\",\"automargin\":true,\"zerolinewidth\":2},\"scene\":{\"xaxis\":{\"backgroundcolor\":\"#E5ECF6\",\"gridcolor\":\"white\",\"linecolor\":\"white\",\"showbackground\":true,\"ticks\":\"\",\"zerolinecolor\":\"white\",\"gridwidth\":2},\"yaxis\":{\"backgroundcolor\":\"#E5ECF6\",\"gridcolor\":\"white\",\"linecolor\":\"white\",\"showbackground\":true,\"ticks\":\"\",\"zerolinecolor\":\"white\",\"gridwidth\":2},\"zaxis\":{\"backgroundcolor\":\"#E5ECF6\",\"gridcolor\":\"white\",\"linecolor\":\"white\",\"showbackground\":true,\"ticks\":\"\",\"zerolinecolor\":\"white\",\"gridwidth\":2}},\"shapedefaults\":{\"line\":{\"color\":\"#2a3f5f\"}},\"annotationdefaults\":{\"arrowcolor\":\"#2a3f5f\",\"arrowhead\":0,\"arrowwidth\":1},\"geo\":{\"bgcolor\":\"white\",\"landcolor\":\"#E5ECF6\",\"subunitcolor\":\"white\",\"showland\":true,\"showlakes\":true,\"lakecolor\":\"white\"},\"title\":{\"x\":0.05},\"mapbox\":{\"style\":\"light\"}}},\"title\":{\"text\":\"Data Imbalance in Training Data\"},\"xaxis\":{\"title\":{\"text\":\"Positive and Negative Cases\"}},\"yaxis\":{\"title\":{\"text\":\"Number of Samples\"}}},                        {\"responsive\": true}                    ).then(function(){\n",
              "                            \n",
              "var gd = document.getElementById('767f989e-3afa-4035-8742-2932fbbd454c');\n",
              "var x = new MutationObserver(function (mutations, observer) {{\n",
              "        var display = window.getComputedStyle(gd).display;\n",
              "        if (!display || display === 'none') {{\n",
              "            console.log([gd, 'removed!']);\n",
              "            Plotly.purge(gd);\n",
              "            observer.disconnect();\n",
              "        }}\n",
              "}});\n",
              "\n",
              "// Listen for the removal of the full notebook cells\n",
              "var notebookContainer = gd.closest('#notebook-container');\n",
              "if (notebookContainer) {{\n",
              "    x.observe(notebookContainer, {childList: true});\n",
              "}}\n",
              "\n",
              "// Listen for the clearing of the current output cell\n",
              "var outputEl = gd.closest('.output');\n",
              "if (outputEl) {{\n",
              "    x.observe(outputEl, {childList: true});\n",
              "}}\n",
              "\n",
              "                        })                };                            </script>        </div>\n",
              "</body>\n",
              "</html>"
            ]
          },
          "metadata": {}
        }
      ]
    },
    {
      "cell_type": "markdown",
      "source": [
        "Visualise some of the data samples"
      ],
      "metadata": {
        "id": "NjB_Kffgs88z"
      }
    },
    {
      "cell_type": "code",
      "source": [
        "positive_sample_img = np.array(Image.open(positive_samples[0]))\n",
        "negative_sample_img = np.array(Image.open(negative_samples[0]))\n",
        "\n",
        "image_fig = make_subplots(rows=1, cols=2, subplot_titles=(\"Positive\", \"Negative\"))\n",
        "image_fig.add_trace(go.Heatmap(z=positive_sample_img, colorscale='gray'), 1, 1)\n",
        "image_fig.add_trace(go.Heatmap(z=negative_sample_img, colorscale='gray'), 1, 2)\n",
        "\n",
        "image_fig.update_yaxes(autorange='reversed', constrain='domain')\n",
        "image_fig.update_xaxes(constrain='domain')\n",
        "image_fig.show()"
      ],
      "metadata": {
        "colab": {
          "base_uri": "https://localhost:8080/",
          "height": 542
        },
        "id": "y7o6ltjKs7js",
        "outputId": "2fdcb971-2cc0-4b05-dfaf-63cb97dadaaa"
      },
      "execution_count": null,
      "outputs": []
    },
    {
      "cell_type": "markdown",
      "source": [
        "Create a PyTorch Dataloader"
      ],
      "metadata": {
        "id": "BGc4_kgps_UX"
      }
    },
    {
      "cell_type": "code",
      "source": [
        "class XRayTransformations:\n",
        "    def __init__(self, shape):\n",
        "        self.transforms = Compose([\n",
        "            RandomResizedCrop(shape),\n",
        "            ToDtype(torch.float32, scale=True),\n",
        "            Normalize(mean=(0.485, 0.456, 0.406), std=(0.229, 0.224, 0.225)),\n",
        "        ])\n",
        "\n",
        "    def __call__(self, img):\n",
        "        return self.transforms(img)\n",
        "\n",
        "\n",
        "class XRayDataset(Dataset):\n",
        "    def __init__(self, data_path: Path, transform=None):\n",
        "        assert data_path.exists(), f\"Data directory does not exist at: {data_path}\"\n",
        "\n",
        "        self.neg_samples_path = data_path / \"NORMAL\"\n",
        "        self.pos_samples_path = data_path / \"PNEUMONIA\"\n",
        "\n",
        "        assert self.neg_samples_path.exists(\n",
        "        ), f\"Negative samples directory does not exist at: {self.neg_samples_path}\"\n",
        "        assert self.pos_samples_path.exists(\n",
        "        ), f\"Positive samples directory does not exist at: {self.pos_samples_path}\"\n",
        "\n",
        "        neg_samples = self.parse_sample_files(self.neg_samples_path)\n",
        "        pos_samples = self.parse_sample_files(self.pos_samples_path)\n",
        "        self.labels = [0] * len(neg_samples) + [1] * len(pos_samples)\n",
        "        self.samples = neg_samples + pos_samples\n",
        "\n",
        "        self.samples, self.labels = self._shuffle_data()\n",
        "\n",
        "        self.transform = transform\n",
        "\n",
        "    def __len__(self):\n",
        "        return len(self.labels)\n",
        "\n",
        "    def __getitem__(self, idx):\n",
        "        image = read_image(self.samples[idx])\n",
        "        label = self.labels[idx]\n",
        "\n",
        "        if self.transform:\n",
        "            image = self.transform(image)\n",
        "\n",
        "        return image, label\n",
        "\n",
        "    def _shuffle_data(self):\n",
        "        sample_label_pairs = list(zip(self.samples, self.labels))\n",
        "        random.shuffle(sample_label_pairs)\n",
        "        samples, labels = zip(*sample_label_pairs)\n",
        "        return list(samples), list(labels)\n",
        "\n",
        "    def parse_sample_files(self, samples_path: Path):\n",
        "        # TODO: There are some file duplication here, these should be removed from the dataset.\n",
        "        return list(samples_path.glob(\"*.jpeg\"))\n"
      ],
      "metadata": {
        "id": "bT0oNm3-2nR-"
      },
      "execution_count": null,
      "outputs": []
    },
    {
      "cell_type": "markdown",
      "source": [
        "Create an instance of our dataloader."
      ],
      "metadata": {
        "id": "7hb2_CJUrWW4"
      }
    },
    {
      "cell_type": "code",
      "source": [
        "torch.manual_seed(42)\n",
        "batch_size = 64\n",
        "\n",
        "transforms = XRayTransformations(shape=(244, 244))\n",
        "train_ds = XRayDataset(train_path, transform=transforms)\n",
        "train_dataloader = DataLoader(train_ds, batch_size=batch_size, shuffle=True, drop_last=True)\n",
        "\n",
        "test_transforms = XRayTransformations(shape=(244, 244))\n",
        "test_ds = XRayDataset(test_path, transform=transforms)\n",
        "test_dataloader = DataLoader(test_ds, batch_size=batch_size, shuffle=True, drop_last=True)"
      ],
      "metadata": {
        "id": "CxyC9JzhJhnv"
      },
      "execution_count": null,
      "outputs": []
    },
    {
      "cell_type": "markdown",
      "source": [
        "Create a model - use VGG and add some layers to the end"
      ],
      "metadata": {
        "id": "Dlrrei0Ns6c1"
      }
    },
    {
      "cell_type": "code",
      "source": [
        "vgg_model = torchvision.models.vgg11(weights=torchvision.models.VGG11_Weights.DEFAULT, progress=True)"
      ],
      "metadata": {
        "id": "lYCkicgtrkfO"
      },
      "execution_count": null,
      "outputs": []
    },
    {
      "cell_type": "markdown",
      "source": [
        "# What is VGG11?\n",
        "\n",
        "VGG11 (Visual Giometry Group) is a 11 layer pretrained neural network for image processing developed at Oxford Uni.\n",
        "\n",
        "The model was originally created for the ImageNet image recognition challenge in 2014. Since it has become well known for being adapatable to other tasks after some fine-tuning.\n",
        "\n",
        "It's not the *best* model, but it's quick and easy to work with - good for this PoC.\n",
        "\n",
        "VGG16 has 133M parameters. ChatGPT style models have 1B to 90B parameters.\n",
        "\n",
        "![image.png](https://debuggercafe.com/wp-content/uploads/2021/04/vgg.jpg)"
      ],
      "metadata": {
        "id": "AU7XC0D_sRZn"
      }
    },
    {
      "cell_type": "code",
      "source": [
        "output_classes = 2 # NORMAL, PNEUMONIA\n",
        "vgg_model.classifier[6] = torch.nn.Linear(in_features=4096, out_features=output_classes, bias=True)\n",
        "print(vgg_model)"
      ],
      "metadata": {
        "colab": {
          "base_uri": "https://localhost:8080/"
        },
        "id": "oLTilpiuumcU",
        "outputId": "fb4cc530-cc40-44fa-8616-62d64ab04d54"
      },
      "execution_count": null,
      "outputs": [
        {
          "output_type": "stream",
          "name": "stdout",
          "text": [
            "VGG(\n",
            "  (features): Sequential(\n",
            "    (0): Conv2d(3, 64, kernel_size=(3, 3), stride=(1, 1), padding=(1, 1))\n",
            "    (1): ReLU(inplace=True)\n",
            "    (2): MaxPool2d(kernel_size=2, stride=2, padding=0, dilation=1, ceil_mode=False)\n",
            "    (3): Conv2d(64, 128, kernel_size=(3, 3), stride=(1, 1), padding=(1, 1))\n",
            "    (4): ReLU(inplace=True)\n",
            "    (5): MaxPool2d(kernel_size=2, stride=2, padding=0, dilation=1, ceil_mode=False)\n",
            "    (6): Conv2d(128, 256, kernel_size=(3, 3), stride=(1, 1), padding=(1, 1))\n",
            "    (7): ReLU(inplace=True)\n",
            "    (8): Conv2d(256, 256, kernel_size=(3, 3), stride=(1, 1), padding=(1, 1))\n",
            "    (9): ReLU(inplace=True)\n",
            "    (10): MaxPool2d(kernel_size=2, stride=2, padding=0, dilation=1, ceil_mode=False)\n",
            "    (11): Conv2d(256, 512, kernel_size=(3, 3), stride=(1, 1), padding=(1, 1))\n",
            "    (12): ReLU(inplace=True)\n",
            "    (13): Conv2d(512, 512, kernel_size=(3, 3), stride=(1, 1), padding=(1, 1))\n",
            "    (14): ReLU(inplace=True)\n",
            "    (15): MaxPool2d(kernel_size=2, stride=2, padding=0, dilation=1, ceil_mode=False)\n",
            "    (16): Conv2d(512, 512, kernel_size=(3, 3), stride=(1, 1), padding=(1, 1))\n",
            "    (17): ReLU(inplace=True)\n",
            "    (18): Conv2d(512, 512, kernel_size=(3, 3), stride=(1, 1), padding=(1, 1))\n",
            "    (19): ReLU(inplace=True)\n",
            "    (20): MaxPool2d(kernel_size=2, stride=2, padding=0, dilation=1, ceil_mode=False)\n",
            "  )\n",
            "  (avgpool): AdaptiveAvgPool2d(output_size=(7, 7))\n",
            "  (classifier): Sequential(\n",
            "    (0): Linear(in_features=25088, out_features=4096, bias=True)\n",
            "    (1): ReLU(inplace=True)\n",
            "    (2): Dropout(p=0.5, inplace=False)\n",
            "    (3): Linear(in_features=4096, out_features=4096, bias=True)\n",
            "    (4): ReLU(inplace=True)\n",
            "    (5): Dropout(p=0.5, inplace=False)\n",
            "    (6): Linear(in_features=4096, out_features=2, bias=True)\n",
            "  )\n",
            ")\n"
          ]
        }
      ]
    },
    {
      "cell_type": "markdown",
      "source": [
        "We're going to fine tune the model, but we don't want to change all of it at once.\n",
        "The first section extracts features from images, this doesn't need to be modified much.\n",
        "\n",
        "The Classifier section can be tweaked a bit more (it's further from the input data so can change more)\n",
        "\n",
        "The final layer is brand new so should be modifed a lot.\n",
        "\n",
        "We'll define the parameters we're going to modify and give them different learning rates."
      ],
      "metadata": {
        "id": "BDA0QN6VzeZy"
      }
    },
    {
      "cell_type": "code",
      "source": [
        "image_features_params = []\n",
        "image_features_names = [\"features\"]\n",
        "\n",
        "classifier_input_params = []\n",
        "classifier_input_names = [\"classifier.0.weight\", \"classifier.0.bias\", \"classifier.3.weight\", \"classifier.3.bias\"]\n",
        "\n",
        "classifier_output_params = []\n",
        "classifier_output_names = [\"classifier.6.weight\", \"classifier.6.bias\"]\n",
        "\n",
        "# Collect all the parameters\n",
        "for name, param in vgg_model.named_parameters():\n",
        "    if image_features_names[0] in name:\n",
        "        param.requires_grad = True\n",
        "        image_features_params.append(param)\n",
        "    elif name in classifier_input_names:\n",
        "        param.requires_grad = True\n",
        "        classifier_input_params.append(param)\n",
        "    elif name in classifier_output_names:\n",
        "        param.requires_grad = True\n",
        "        classifier_output_params.append(param)\n",
        "    else:\n",
        "        # Disable learning on this parameter\n",
        "        param.requires_grad = False\n",
        "\n",
        "# Set an optimizer to modifiy the model parameters\n",
        "optimizer = torch.optim.AdamW([\n",
        "    {\"params\": image_features_params, \"lr\": 1e-4},\n",
        "    {\"params\": classifier_input_params, \"lr\": 5e-4},\n",
        "    {\"params\": classifier_output_params, \"lr\": 1e-3},\n",
        "])\n",
        "\n",
        "# Function which will provide the loss for training the model\n",
        "loss_func = torch.nn.CrossEntropyLoss()"
      ],
      "metadata": {
        "id": "6HAQm0Wszcdm"
      },
      "execution_count": null,
      "outputs": []
    },
    {
      "cell_type": "code",
      "source": [
        "# Write a training function to fine-tune the model for our dataset\n",
        "\n",
        "def train_step(model, data_loader, loss_func, optimizer, epoch, epochs, device):\n",
        "    print(f\"Epoch {epoch+1}/{epochs}\\n{'-'*12}\")\n",
        "    loss_log = 0\n",
        "    acc_log = 0\n",
        "    f1_log = 0\n",
        "    seen_samples = 0\n",
        "\n",
        "    model.train()\n",
        "    for batch_id, (samples, labels) in enumerate(data_loader):\n",
        "        # Send data to device\n",
        "        samples = samples.to(device)\n",
        "        labels = labels.to(device)\n",
        "\n",
        "        optimizer.zero_grad()\n",
        "\n",
        "        preds = model(samples)\n",
        "        loss = loss_func(preds, labels)\n",
        "        loss.backward()\n",
        "\n",
        "        optimizer.step()\n",
        "\n",
        "        # Collect some performance stats.\n",
        "        loss_log += loss.item()\n",
        "        acc_log += torch.sum(torch.argmax(preds, dim=1) == labels)\n",
        "        f1_log += binary_f1_score(torch.argmax(preds, dim=1), labels)\n",
        "\n",
        "        if batch_id != len(data_loader):\n",
        "            seen_samples += batch_size\n",
        "            rolling_acc = acc_log / seen_samples\n",
        "            rolling_loss = loss_log / seen_samples\n",
        "            print(f\"\\rTraining Batch:{batch_id+1}/{len(data_loader)}\\tLoss: {rolling_loss:.5f}\\tAccuracy: {100*rolling_acc:.3f}%\", end=\"\", flush=True)\n",
        "\n",
        "    epoch_acc = acc_log / len(data_loader.dataset)\n",
        "    epoch_loss = loss_log / len(data_loader.dataset)\n",
        "    epoch_f1 = f1_log / len(data_loader)\n",
        "\n",
        "    print(f\"\\rTraining Loss: {epoch_loss:.5f}\\tAccuracy: {100*epoch_acc:.3f}%\\tF1 Score: {epoch_f1:.4f}\\n\", end=\"\", flush=True)\n",
        "\n",
        "\n",
        "def test_step(model, data_loader, loss_func, device):\n",
        "    loss_log = 0\n",
        "    acc_log = 0\n",
        "    f1_log = 0\n",
        "    seen_samples = 0\n",
        "\n",
        "    model.eval()\n",
        "    with torch.no_grad():\n",
        "        for batch_id, (samples, labels) in enumerate(data_loader):\n",
        "            # Send data to device\n",
        "            samples = samples.to(device)\n",
        "            labels = labels.to(device)\n",
        "\n",
        "            preds = model(samples)\n",
        "            loss = loss_func(preds, labels)\n",
        "\n",
        "            # Collect some performance stats.\n",
        "            loss_log += loss.item()\n",
        "            acc_log += torch.sum(torch.argmax(preds, dim=1) == labels)\n",
        "            f1_log += binary_f1_score(torch.argmax(preds, dim=1), labels)\n",
        "\n",
        "    epoch_acc = acc_log / len(data_loader.dataset)\n",
        "    epoch_loss = loss_log / len(data_loader.dataset)\n",
        "    epoch_f1 = f1_log / len(data_loader)\n",
        "\n",
        "    print(f\"Test Loss: {epoch_loss:.5f}\\tTest Accuracy: {100*epoch_acc:.3f}%\\tF1 Score: {epoch_f1:.4f}\\n\")\n",
        "\n",
        "\n",
        "def train(model, train_dataloader, test_dataloader, loss_func, optimizer, epochs):\n",
        "    device = torch.device(\"cuda:0\" if torch.cuda.is_available() else \"cpu\")\n",
        "    print(f\"Using {device}\")\n",
        "\n",
        "    model.to(device)\n",
        "    torch.backends.cudnn.benchmark = True\n",
        "\n",
        "    for epoch in range(epochs):\n",
        "        train_step(model, train_dataloader, loss_func, optimizer, epoch, epochs, device)\n",
        "        test_step(model, test_dataloader, loss_func, device)\n"
      ],
      "metadata": {
        "id": "O2h9M6Mv4NO3"
      },
      "execution_count": null,
      "outputs": []
    },
    {
      "cell_type": "markdown",
      "source": [
        "Test output against precision and recall - visualise confusion matrix"
      ],
      "metadata": {
        "id": "lPR99QwBtNbR"
      }
    },
    {
      "cell_type": "code",
      "source": [
        "train(vgg_model, train_dataloader, test_dataloader, loss_func, optimizer, 5)"
      ],
      "metadata": {
        "id": "d8JayeuJtSmg",
        "colab": {
          "base_uri": "https://localhost:8080/"
        },
        "outputId": "1de8e33d-97c1-4e97-d2bd-06fee876784b"
      },
      "execution_count": null,
      "outputs": [
        {
          "output_type": "stream",
          "name": "stdout",
          "text": [
            "Using cuda:0\n",
            "Epoch 1/5\n",
            "------------\n",
            "Training Loss: 0.00495\tAccuracy: 86.503%\tF1 Score: 0.9132\n",
            "Test Loss: 0.00586\tTest Accuracy: 79.006%\tF1 Score: 0.8868\n",
            "\n",
            "Epoch 2/5\n",
            "------------\n",
            "Training Loss: 0.00311\tAccuracy: 92.082%\tF1 Score: 0.9502\n",
            "Test Loss: 0.00575\tTest Accuracy: 80.929%\tF1 Score: 0.9078\n",
            "\n",
            "Epoch 3/5\n",
            "------------\n",
            "Training Loss: 0.00270\tAccuracy: 92.561%\tF1 Score: 0.9529\n",
            "Training Loss: 0.00261\tAccuracy: 93.021%\tF1 Score: 0.9560\n",
            "Test Loss: 0.00321\tTest Accuracy: 84.295%\tF1 Score: 0.9339\n",
            "\n",
            "Epoch 5/5\n",
            "------------\n",
            "Training Loss: 0.00231\tAccuracy: 93.999%\tF1 Score: 0.9628\n",
            "Test Loss: 0.00547\tTest Accuracy: 82.051%\tF1 Score: 0.9168\n",
            "\n"
          ]
        }
      ]
    },
    {
      "cell_type": "code",
      "source": [
        "def calc_confusion_matrix(model, data_loader):\n",
        "    device = torch.device(\"cuda:0\" if torch.cuda.is_available() else \"cpu\")\n",
        "\n",
        "    all_labels = []\n",
        "    all_preds = []\n",
        "\n",
        "    model.eval()\n",
        "    with torch.no_grad():\n",
        "        for samples, labels in tqdm(data_loader):\n",
        "            samples = samples.to(device)\n",
        "\n",
        "            preds = model(samples)\n",
        "            preds = torch.argmax(preds, dim=1)\n",
        "\n",
        "            all_preds.append(preds.cpu())\n",
        "            all_labels.append(labels)\n",
        "\n",
        "    all_labels = torch.cat(all_labels)\n",
        "    all_preds = torch.cat(all_preds)\n",
        "\n",
        "    return confusion_matrix(all_labels, all_preds)\n",
        "\n",
        "cm = calc_confusion_matrix(vgg_model, test_dataloader)\n",
        "\n",
        "disp = ConfusionMatrixDisplay(confusion_matrix=cm, display_labels=[\"Normal\", \"Pneumonia\"])\n",
        "disp.plot();"
      ],
      "metadata": {
        "colab": {
          "base_uri": "https://localhost:8080/",
          "height": 466
        },
        "id": "jSqR0MpIiA3S",
        "outputId": "71061dcf-afe7-4303-97cc-e41e13ce10e0"
      },
      "execution_count": null,
      "outputs": [
        {
          "output_type": "stream",
          "name": "stderr",
          "text": [
            "100%|██████████| 9/9 [00:05<00:00,  1.60it/s]\n"
          ]
        },
        {
          "output_type": "display_data",
          "data": {
            "text/plain": [
              "<Figure size 640x480 with 2 Axes>"
            ],
            "image/png": "[encoded data removed]"
          },
          "metadata": {}
        }
      ]
    },
    {
      "cell_type": "code",
      "source": [
        "# Save the model\n",
        "model_path = \"xray_model.pth\"\n",
        "torch.save(vgg_model.state_dict(), model_path)"
      ],
      "metadata": {
        "id": "ijZYs9lnTNPi"
      },
      "execution_count": null,
      "outputs": []
    },
    {
      "cell_type": "code",
      "source": [],
      "metadata": {
        "id": "2djB1tuvhfgf"
      },
      "execution_count": null,
      "outputs": []
    }
  ]
}